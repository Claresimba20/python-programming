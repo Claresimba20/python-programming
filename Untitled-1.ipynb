{
 "cells": [
  {
   "cell_type": "code",
   "execution_count": 8,
   "id": "6ddc874f",
   "metadata": {},
   "outputs": [
    {
     "name": "stdout",
     "output_type": "stream",
     "text": [
      "500\n"
     ]
    }
   ],
   "source": [
    "acc_balance=500\n",
    "print (acc_balance)"
   ]
  },
  {
   "cell_type": "code",
   "execution_count": 9,
   "id": "2dda7f2a",
   "metadata": {},
   "outputs": [
    {
     "name": "stdout",
     "output_type": "stream",
     "text": [
      "700\n"
     ]
    }
   ],
   "source": [
    "new_balance=acc_balance+200\n",
    "print(new_balance)"
   ]
  },
  {
   "cell_type": "code",
   "execution_count": 10,
   "id": "177cc68f",
   "metadata": {},
   "outputs": [
    {
     "name": "stdout",
     "output_type": "stream",
     "text": [
      "Hello Hello,please input your username\n"
     ]
    }
   ],
   "source": [
    "name=(\"Hello,please input your username\")\n",
    "print(\"Hello\",name)"
   ]
  },
  {
   "cell_type": "code",
   "execution_count": 11,
   "id": "23702e3f",
   "metadata": {},
   "outputs": [
    {
     "name": "stdout",
     "output_type": "stream",
     "text": [
      "<class 'int'>\n",
      "<class 'float'>\n"
     ]
    }
   ],
   "source": [
    "num1=5\n",
    "num2=2.1\n",
    "#type()\n",
    "\n",
    "print(type(num1))\n",
    "print(type(num2))"
   ]
  },
  {
   "cell_type": "code",
   "execution_count": 12,
   "id": "3e1e0281",
   "metadata": {},
   "outputs": [
    {
     "name": "stdout",
     "output_type": "stream",
     "text": [
      "<class 'float'>\n"
     ]
    }
   ],
   "source": [
    "num1=float(num1)\n",
    "print(type(num1))"
   ]
  },
  {
   "cell_type": "code",
   "execution_count": 13,
   "id": "661172b3",
   "metadata": {},
   "outputs": [
    {
     "name": "stdout",
     "output_type": "stream",
     "text": [
      "<class 'str'>\n"
     ]
    }
   ],
   "source": [
    "id_no='123456'\n",
    "print(type(id_no))"
   ]
  },
  {
   "cell_type": "code",
   "execution_count": 14,
   "id": "8d29fa4f",
   "metadata": {},
   "outputs": [],
   "source": [
    "x=2\n",
    "y=2\n",
    "#z=x+y\n",
    "z=x+y"
   ]
  },
  {
   "cell_type": "code",
   "execution_count": 15,
   "id": "5fe5ad3a",
   "metadata": {},
   "outputs": [
    {
     "name": "stdout",
     "output_type": "stream",
     "text": [
      "50\n"
     ]
    }
   ],
   "source": [
    "time=5\n",
    "rate=10\n",
    "total=time*rate\n",
    "print(total)"
   ]
  },
  {
   "cell_type": "code",
   "execution_count": 16,
   "id": "97c3c11b",
   "metadata": {},
   "outputs": [
    {
     "ename": "",
     "evalue": "",
     "output_type": "error",
     "traceback": [
      "\u001b[1;31mCannot execute code, session has been disposed. Please try restarting the Kernel."
     ]
    },
    {
     "ename": "",
     "evalue": "",
     "output_type": "error",
     "traceback": [
      "\u001b[1;31mCannot execute code, session has been disposed. Please try restarting the Kernel. \n",
      "\u001b[1;31mView Jupyter <a href='command:jupyter.viewOutput'>log</a> for further details."
     ]
    }
   ],
   "source": [
    "hours=int(input(\"enter number of hours: \"))\n",
    "rate=int(input(\"enter gross pay per hour: \"))\n",
    "total=hours*rate\n"
   ]
  },
  {
   "cell_type": "code",
   "execution_count": null,
   "id": "f0be4453",
   "metadata": {},
   "outputs": [
    {
     "ename": "SyntaxError",
     "evalue": "invalid syntax. Perhaps you forgot a comma? (4292537669.py, line 1)",
     "output_type": "error",
     "traceback": [
      "  \u001b[36mCell\u001b[39m\u001b[36m \u001b[39m\u001b[32mIn[1]\u001b[39m\u001b[32m, line 1\u001b[39m\n\u001b[31m    \u001b[39m\u001b[31mhours=int(input(Enter number of hours: ))\u001b[39m\n                    ^\n\u001b[31mSyntaxError\u001b[39m\u001b[31m:\u001b[39m invalid syntax. Perhaps you forgot a comma?\n"
     ]
    }
   ],
   "source": [
    "hours=int(input(Enter number of hours: ))\n",
    "rate=int(input(Enter gross pay per hour: ))\n",
    "total=hours*rate\n",
    "print(total)"
   ]
  },
  {
   "cell_type": "code",
   "execution_count": null,
   "id": "9365fe6d",
   "metadata": {},
   "outputs": [
    {
     "ename": "IndentationError",
     "evalue": "unexpected indent (1972218813.py, line 1)",
     "output_type": "error",
     "traceback": [
      "  \u001b[36mCell\u001b[39m\u001b[36m \u001b[39m\u001b[32mIn[5]\u001b[39m\u001b[32m, line 1\u001b[39m\n\u001b[31m    \u001b[39m\u001b[31mtemperature=input(\"what is temperature in celsius?\")\u001b[39m\n    ^\n\u001b[31mIndentationError\u001b[39m\u001b[31m:\u001b[39m unexpected indent\n"
     ]
    }
   ],
   "source": [
    " temperature=input(\"what is temperature in celsius?\")\n",
    "\n",
    "farenheit=(float(temperature)*9/5)+32\n",
    "farenheit"
   ]
  },
  {
   "cell_type": "code",
   "execution_count": 2,
   "id": "b78e5e44",
   "metadata": {},
   "outputs": [],
   "source": [
    "def squared(x):\n",
    "    y=x**2\n",
    "    print(y)"
   ]
  },
  {
   "cell_type": "code",
   "execution_count": 3,
   "id": "d26e4122",
   "metadata": {},
   "outputs": [
    {
     "name": "stdout",
     "output_type": "stream",
     "text": [
      "25\n"
     ]
    }
   ],
   "source": [
    "squared(5)"
   ]
  },
  {
   "cell_type": "code",
   "execution_count": 4,
   "id": "baeaca9f",
   "metadata": {},
   "outputs": [
    {
     "ename": "SyntaxError",
     "evalue": "invalid syntax (3675849122.py, line 1)",
     "output_type": "error",
     "traceback": [
      "  \u001b[36mCell\u001b[39m\u001b[36m \u001b[39m\u001b[32mIn[4]\u001b[39m\u001b[32m, line 1\u001b[39m\n\u001b[31m    \u001b[39m\u001b[31mdef (celsius)\u001b[39m\n        ^\n\u001b[31mSyntaxError\u001b[39m\u001b[31m:\u001b[39m invalid syntax\n"
     ]
    }
   ],
   "source": [
    "def (celsius)\n",
    "    farenheit=(celsius*9/5)+32\n",
    "    print(farenheit)\n",
    " "
   ]
  },
  {
   "cell_type": "code",
   "execution_count": 2,
   "id": "55a41d56",
   "metadata": {},
   "outputs": [
    {
     "data": {
      "text/plain": [
       "'j'"
      ]
     },
     "execution_count": 2,
     "metadata": {},
     "output_type": "execute_result"
    }
   ],
   "source": [
    "name='jesse'\n",
    "name[0]"
   ]
  },
  {
   "cell_type": "code",
   "execution_count": 3,
   "id": "026e1ebb",
   "metadata": {},
   "outputs": [
    {
     "ename": "SyntaxError",
     "evalue": "invalid syntax (1138323327.py, line 2)",
     "output_type": "error",
     "traceback": [
      "  \u001b[36mCell\u001b[39m\u001b[36m \u001b[39m\u001b[32mIn[3]\u001b[39m\u001b[32m, line 2\u001b[39m\n\u001b[31m    \u001b[39m\u001b[31ms=[0:3:5:7]\u001b[39m\n        ^\n\u001b[31mSyntaxError\u001b[39m\u001b[31m:\u001b[39m invalid syntax\n"
     ]
    }
   ],
   "source": [
    "s='economics'\n",
    "s=[0:3:5:7]"
   ]
  },
  {
   "cell_type": "code",
   "execution_count": 5,
   "id": "68c94293",
   "metadata": {},
   "outputs": [
    {
     "name": "stdout",
     "output_type": "stream",
     "text": [
      "DavidAustin\n"
     ]
    }
   ],
   "source": [
    "first_name='David'\n",
    "second_name='Austin'\n",
    "full_name=first_name+second_name\n",
    "print(full_name)"
   ]
  },
  {
   "cell_type": "code",
   "execution_count": 6,
   "id": "8a8d0868",
   "metadata": {},
   "outputs": [
    {
     "name": "stdout",
     "output_type": "stream",
     "text": [
      "['i', 'love', 'python', 'programming']\n"
     ]
    }
   ],
   "source": [
    "sentence='i love python programming'\n",
    "print(sentence.split())"
   ]
  },
  {
   "cell_type": "code",
   "execution_count": 7,
   "id": "9d9add3c",
   "metadata": {},
   "outputs": [
    {
     "name": "stdout",
     "output_type": "stream",
     "text": [
      "['we are going home', 'my home is in Embu']\n"
     ]
    }
   ],
   "source": [
    "sentence='we are going home,my home is in Embu'\n",
    "print(sentence.split(','))"
   ]
  },
  {
   "cell_type": "code",
   "execution_count": 9,
   "id": "652ad32e",
   "metadata": {},
   "outputs": [
    {
     "data": {
      "text/plain": [
       "['From',\n",
       " 'stephen.marquard@',\n",
       " 'uct.ac.za',\n",
       " 'Sat',\n",
       " 'Jan',\n",
       " '5',\n",
       " '09:14:16',\n",
       " '2008']"
      ]
     },
     "execution_count": 9,
     "metadata": {},
     "output_type": "execute_result"
    }
   ],
   "source": [
    "#From stephen.marquard@ uct.ac.za Sat Jan 5 09:14:16 2008\n",
    "line=\"From stephen.marquard@ uct.ac.za Sat Jan 5 09:14:16 2008\"\n",
    "words=line.split()\n",
    "words"
   ]
  },
  {
   "cell_type": "code",
   "execution_count": 11,
   "id": "dceb880c",
   "metadata": {},
   "outputs": [
    {
     "data": {
      "text/plain": [
       "'stephen.marquard@'"
      ]
     },
     "execution_count": 11,
     "metadata": {},
     "output_type": "execute_result"
    }
   ],
   "source": [
    "email=words[1]\n",
    "email"
   ]
  },
  {
   "cell_type": "code",
   "execution_count": 13,
   "id": "deed410d",
   "metadata": {},
   "outputs": [
    {
     "data": {
      "text/plain": [
       "16"
      ]
     },
     "execution_count": 13,
     "metadata": {},
     "output_type": "execute_result"
    }
   ],
   "source": [
    "at_index=email.find('@')\n",
    "at_index"
   ]
  },
  {
   "cell_type": "code",
   "execution_count": 14,
   "id": "2cd61795",
   "metadata": {},
   "outputs": [
    {
     "data": {
      "text/plain": [
       "'stephen.marquard'"
      ]
     },
     "execution_count": 14,
     "metadata": {},
     "output_type": "execute_result"
    }
   ],
   "source": [
    "name=email[:16]\n",
    "name"
   ]
  },
  {
   "cell_type": "code",
   "execution_count": 18,
   "id": "dfdae3c1",
   "metadata": {},
   "outputs": [
    {
     "data": {
      "text/plain": [
       "'Jan'"
      ]
     },
     "execution_count": 18,
     "metadata": {},
     "output_type": "execute_result"
    }
   ],
   "source": [
    "month= words[4]\n",
    "month"
   ]
  },
  {
   "cell_type": "code",
   "execution_count": 21,
   "id": "b98e855d",
   "metadata": {},
   "outputs": [
    {
     "data": {
      "text/plain": [
       "3"
      ]
     },
     "execution_count": 21,
     "metadata": {},
     "output_type": "execute_result"
    }
   ],
   "source": [
    "fruits='banana'\n",
    "fruits.find('a',2)"
   ]
  },
  {
   "cell_type": "code",
   "execution_count": 27,
   "id": "ee81afbd",
   "metadata": {},
   "outputs": [
    {
     "data": {
      "text/plain": [
       "['From', 'mercy.mwangi@zindua.tech', 'Sat', 'Jun', '711:13:00', '2025']"
      ]
     },
     "execution_count": 27,
     "metadata": {},
     "output_type": "execute_result"
    }
   ],
   "source": [
    "line=\"From mercy.mwangi@zindua.tech Sat Jun 711:13:00 2025\"\n",
    "words=line.split()\n",
    "words"
   ]
  },
  {
   "cell_type": "code",
   "execution_count": 28,
   "id": "762ce785",
   "metadata": {},
   "outputs": [
    {
     "data": {
      "text/plain": [
       "'mercy.mwangi@zindua.tech'"
      ]
     },
     "execution_count": 28,
     "metadata": {},
     "output_type": "execute_result"
    }
   ],
   "source": [
    "email=words[1]\n",
    "email"
   ]
  },
  {
   "cell_type": "code",
   "execution_count": 32,
   "id": "f94d8ca1",
   "metadata": {},
   "outputs": [
    {
     "data": {
      "text/plain": [
       "13"
      ]
     },
     "execution_count": 32,
     "metadata": {},
     "output_type": "execute_result"
    }
   ],
   "source": [
    "z_index=email.find(\"z\")\n",
    "z_index"
   ]
  },
  {
   "cell_type": "code",
   "execution_count": 35,
   "id": "6a3efd5a",
   "metadata": {},
   "outputs": [
    {
     "data": {
      "text/plain": [
       "'zindua.tech'"
      ]
     },
     "execution_count": 35,
     "metadata": {},
     "output_type": "execute_result"
    }
   ],
   "source": [
    "organization=email[13::1]\n",
    "organization\n"
   ]
  },
  {
   "cell_type": "code",
   "execution_count": 36,
   "id": "bcb7550e",
   "metadata": {},
   "outputs": [
    {
     "ename": "NameError",
     "evalue": "name 're' is not defined",
     "output_type": "error",
     "traceback": [
      "\u001b[31m---------------------------------------------------------------------------\u001b[39m",
      "\u001b[31mNameError\u001b[39m                                 Traceback (most recent call last)",
      "\u001b[36mCell\u001b[39m\u001b[36m \u001b[39m\u001b[32mIn[36]\u001b[39m\u001b[32m, line 1\u001b[39m\n\u001b[32m----> \u001b[39m\u001b[32m1\u001b[39m \u001b[38;5;28mprint\u001b[39m(\u001b[43mre\u001b[49m.findall(\u001b[33mr\u001b[39m\u001b[33m'\u001b[39m\u001b[33m[aeiou]\u001b[39m\u001b[33m'\u001b[39m,\u001b[33m'\u001b[39m\u001b[33mHello World\u001b[39m\u001b[33m'\u001b[39m))\n",
      "\u001b[31mNameError\u001b[39m: name 're' is not defined"
     ]
    }
   ],
   "source": [
    "print(re.findall(r'[aeiou]','Hello World'))"
   ]
  },
  {
   "cell_type": "code",
   "execution_count": null,
   "id": "5ada9a98",
   "metadata": {},
   "outputs": [],
   "source": [
    "text=iput"
   ]
  }
 ],
 "metadata": {
  "kernelspec": {
   "display_name": "Python 3",
   "language": "python",
   "name": "python3"
  },
  "language_info": {
   "codemirror_mode": {
    "name": "ipython",
    "version": 3
   },
   "file_extension": ".py",
   "mimetype": "text/x-python",
   "name": "python",
   "nbconvert_exporter": "python",
   "pygments_lexer": "ipython3",
   "version": "3.13.4"
  }
 },
 "nbformat": 4,
 "nbformat_minor": 5
}
